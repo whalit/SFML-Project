{
 "cells": [
  {
   "attachments": {},
   "cell_type": "markdown",
   "metadata": {},
   "source": [
    "# Imports"
   ]
  },
  {
   "cell_type": "code",
   "execution_count": 5,
   "metadata": {},
   "outputs": [],
   "source": [
    "import pandas as pd\n",
    "import numpy as np\n",
    "import matplotlib.pyplot as plt\n",
    "import seaborn as sns\n",
    "from keras.models import Sequential\n",
    "from keras.layers import Dense\n",
    "\n",
    "pd.set_option('display.max_columns', 200)"
   ]
  },
  {
   "attachments": {},
   "cell_type": "markdown",
   "metadata": {},
   "source": [
    "# Introduction"
   ]
  },
  {
   "attachments": {},
   "cell_type": "markdown",
   "metadata": {},
   "source": [
    "#   Datasets"
   ]
  },
  {
   "attachments": {},
   "cell_type": "markdown",
   "metadata": {},
   "source": [
    "## Synthetic dataset"
   ]
  },
  {
   "attachments": {},
   "cell_type": "markdown",
   "metadata": {},
   "source": [
    "## Real dataset : Spotify Youtube dataset"
   ]
  },
  {
   "attachments": {},
   "cell_type": "markdown",
   "metadata": {},
   "source": [
    "**Link of the dataset** : # \"https://www.kaggle.com/datasets/salvatorerastelli/spotify-and-youtube?resource=download\"  \n"
   ]
  },
  {
   "attachments": {},
   "cell_type": "markdown",
   "metadata": {},
   "source": [
    " This dataset consists of songs from various artists worldwide, and for each song, it includes several statistics related to the music's presence on Spotify, such as the number of streams. Additionally, it includes the number of views for the official music video of each song on YouTube."
   ]
  },
  {
   "attachments": {},
   "cell_type": "markdown",
   "metadata": {},
   "source": [
    "### Content"
   ]
  },
  {
   "attachments": {},
   "cell_type": "markdown",
   "metadata": {},
   "source": [
    "It includes 26 variables for each of the songs collected from spotify. These variables are briefly described next:\n",
    "\n",
    "- Track: name of the song, as visible on the Spotify platform.\n",
    "- Artist: name of the artist.\n",
    "- Url_spotify: the Url of the artist.\n",
    "- Album: the album in wich the song is contained on Spotify.\n",
    "- Album_type: indicates if the song is relesead on Spotify as a single or contained in an album.\n",
    "- Uri: a spotify link used to find the song through the API.\n",
    "- Danceability: describes how suitable a track is for dancing based on a combination of musical elements. \n",
    "- Energy: is a measure from 0.0 to 1.0 and represents a perceptual measure of intensity and activity. \n",
    "- Key: the key the track is in. \n",
    "- Loudness: the overall loudness of a track in decibels (dB).\n",
    "- Speechiness: detects the presence of spoken words in a track. \n",
    "- Acousticness: a confidence measure from 0.0 to 1.0 of whether the track is acoustic.\n",
    "- Liveness: detects the presence of an audience in the recording. \n",
    "- Valence: a measure from 0.0 to 1.0 describing the musical positiveness conveyed by a track.\n",
    "- Tempo: the overall estimated tempo of a track in beats per minute (BPM). \n",
    "- Duration_ms: the duration of the track in milliseconds.\n",
    "- Stream: number of streams of the song on Spotify."
   ]
  },
  {
   "cell_type": "code",
   "execution_count": 3,
   "metadata": {},
   "outputs": [
    {
     "data": {
      "text/html": [
       "<div>\n",
       "<style scoped>\n",
       "    .dataframe tbody tr th:only-of-type {\n",
       "        vertical-align: middle;\n",
       "    }\n",
       "\n",
       "    .dataframe tbody tr th {\n",
       "        vertical-align: top;\n",
       "    }\n",
       "\n",
       "    .dataframe thead th {\n",
       "        text-align: right;\n",
       "    }\n",
       "</style>\n",
       "<table border=\"1\" class=\"dataframe\">\n",
       "  <thead>\n",
       "    <tr style=\"text-align: right;\">\n",
       "      <th></th>\n",
       "      <th>Artist</th>\n",
       "      <th>Url_spotify</th>\n",
       "      <th>Track</th>\n",
       "      <th>Album</th>\n",
       "      <th>Album_type</th>\n",
       "      <th>Uri</th>\n",
       "      <th>Danceability</th>\n",
       "      <th>Energy</th>\n",
       "      <th>Key</th>\n",
       "      <th>Loudness</th>\n",
       "      <th>Speechiness</th>\n",
       "      <th>Acousticness</th>\n",
       "      <th>Instrumentalness</th>\n",
       "      <th>Liveness</th>\n",
       "      <th>Valence</th>\n",
       "      <th>Tempo</th>\n",
       "      <th>Duration_ms</th>\n",
       "      <th>Url_youtube</th>\n",
       "      <th>Title</th>\n",
       "      <th>Channel</th>\n",
       "      <th>Views</th>\n",
       "      <th>Likes</th>\n",
       "      <th>Comments</th>\n",
       "      <th>Description</th>\n",
       "      <th>Licensed</th>\n",
       "      <th>official_video</th>\n",
       "      <th>Stream</th>\n",
       "    </tr>\n",
       "  </thead>\n",
       "  <tbody>\n",
       "    <tr>\n",
       "      <th>0</th>\n",
       "      <td>Gorillaz</td>\n",
       "      <td>https://open.spotify.com/artist/3AA28KZvwAUcZu...</td>\n",
       "      <td>Feel Good Inc.</td>\n",
       "      <td>Demon Days</td>\n",
       "      <td>album</td>\n",
       "      <td>spotify:track:0d28khcov6AiegSCpG5TuT</td>\n",
       "      <td>0.818</td>\n",
       "      <td>0.705</td>\n",
       "      <td>6.0</td>\n",
       "      <td>-6.679</td>\n",
       "      <td>0.1770</td>\n",
       "      <td>0.008360</td>\n",
       "      <td>0.002330</td>\n",
       "      <td>0.6130</td>\n",
       "      <td>0.772</td>\n",
       "      <td>138.559</td>\n",
       "      <td>222640.0</td>\n",
       "      <td>https://www.youtube.com/watch?v=HyHNuVaZJ-k</td>\n",
       "      <td>Gorillaz - Feel Good Inc. (Official Video)</td>\n",
       "      <td>Gorillaz</td>\n",
       "      <td>693555221.0</td>\n",
       "      <td>6220896.0</td>\n",
       "      <td>169907.0</td>\n",
       "      <td>Official HD Video for Gorillaz' fantastic trac...</td>\n",
       "      <td>True</td>\n",
       "      <td>True</td>\n",
       "      <td>1.040235e+09</td>\n",
       "    </tr>\n",
       "    <tr>\n",
       "      <th>1</th>\n",
       "      <td>Gorillaz</td>\n",
       "      <td>https://open.spotify.com/artist/3AA28KZvwAUcZu...</td>\n",
       "      <td>Rhinestone Eyes</td>\n",
       "      <td>Plastic Beach</td>\n",
       "      <td>album</td>\n",
       "      <td>spotify:track:1foMv2HQwfQ2vntFf9HFeG</td>\n",
       "      <td>0.676</td>\n",
       "      <td>0.703</td>\n",
       "      <td>8.0</td>\n",
       "      <td>-5.815</td>\n",
       "      <td>0.0302</td>\n",
       "      <td>0.086900</td>\n",
       "      <td>0.000687</td>\n",
       "      <td>0.0463</td>\n",
       "      <td>0.852</td>\n",
       "      <td>92.761</td>\n",
       "      <td>200173.0</td>\n",
       "      <td>https://www.youtube.com/watch?v=yYDmaexVHic</td>\n",
       "      <td>Gorillaz - Rhinestone Eyes [Storyboard Film] (...</td>\n",
       "      <td>Gorillaz</td>\n",
       "      <td>72011645.0</td>\n",
       "      <td>1079128.0</td>\n",
       "      <td>31003.0</td>\n",
       "      <td>The official video for Gorillaz - Rhinestone E...</td>\n",
       "      <td>True</td>\n",
       "      <td>True</td>\n",
       "      <td>3.100837e+08</td>\n",
       "    </tr>\n",
       "    <tr>\n",
       "      <th>2</th>\n",
       "      <td>Gorillaz</td>\n",
       "      <td>https://open.spotify.com/artist/3AA28KZvwAUcZu...</td>\n",
       "      <td>New Gold (feat. Tame Impala and Bootie Brown)</td>\n",
       "      <td>New Gold (feat. Tame Impala and Bootie Brown)</td>\n",
       "      <td>single</td>\n",
       "      <td>spotify:track:64dLd6rVqDLtkXFYrEUHIU</td>\n",
       "      <td>0.695</td>\n",
       "      <td>0.923</td>\n",
       "      <td>1.0</td>\n",
       "      <td>-3.930</td>\n",
       "      <td>0.0522</td>\n",
       "      <td>0.042500</td>\n",
       "      <td>0.046900</td>\n",
       "      <td>0.1160</td>\n",
       "      <td>0.551</td>\n",
       "      <td>108.014</td>\n",
       "      <td>215150.0</td>\n",
       "      <td>https://www.youtube.com/watch?v=qJa-VFwPpYA</td>\n",
       "      <td>Gorillaz - New Gold ft. Tame Impala &amp; Bootie B...</td>\n",
       "      <td>Gorillaz</td>\n",
       "      <td>8435055.0</td>\n",
       "      <td>282142.0</td>\n",
       "      <td>7399.0</td>\n",
       "      <td>Gorillaz - New Gold ft. Tame Impala &amp; Bootie B...</td>\n",
       "      <td>True</td>\n",
       "      <td>True</td>\n",
       "      <td>6.306347e+07</td>\n",
       "    </tr>\n",
       "    <tr>\n",
       "      <th>3</th>\n",
       "      <td>Gorillaz</td>\n",
       "      <td>https://open.spotify.com/artist/3AA28KZvwAUcZu...</td>\n",
       "      <td>On Melancholy Hill</td>\n",
       "      <td>Plastic Beach</td>\n",
       "      <td>album</td>\n",
       "      <td>spotify:track:0q6LuUqGLUiCPP1cbdwFs3</td>\n",
       "      <td>0.689</td>\n",
       "      <td>0.739</td>\n",
       "      <td>2.0</td>\n",
       "      <td>-5.810</td>\n",
       "      <td>0.0260</td>\n",
       "      <td>0.000015</td>\n",
       "      <td>0.509000</td>\n",
       "      <td>0.0640</td>\n",
       "      <td>0.578</td>\n",
       "      <td>120.423</td>\n",
       "      <td>233867.0</td>\n",
       "      <td>https://www.youtube.com/watch?v=04mfKJWDSzI</td>\n",
       "      <td>Gorillaz - On Melancholy Hill (Official Video)</td>\n",
       "      <td>Gorillaz</td>\n",
       "      <td>211754952.0</td>\n",
       "      <td>1788577.0</td>\n",
       "      <td>55229.0</td>\n",
       "      <td>Follow Gorillaz online:\\nhttp://gorillaz.com \\...</td>\n",
       "      <td>True</td>\n",
       "      <td>True</td>\n",
       "      <td>4.346636e+08</td>\n",
       "    </tr>\n",
       "    <tr>\n",
       "      <th>4</th>\n",
       "      <td>Gorillaz</td>\n",
       "      <td>https://open.spotify.com/artist/3AA28KZvwAUcZu...</td>\n",
       "      <td>Clint Eastwood</td>\n",
       "      <td>Gorillaz</td>\n",
       "      <td>album</td>\n",
       "      <td>spotify:track:7yMiX7n9SBvadzox8T5jzT</td>\n",
       "      <td>0.663</td>\n",
       "      <td>0.694</td>\n",
       "      <td>10.0</td>\n",
       "      <td>-8.627</td>\n",
       "      <td>0.1710</td>\n",
       "      <td>0.025300</td>\n",
       "      <td>0.000000</td>\n",
       "      <td>0.0698</td>\n",
       "      <td>0.525</td>\n",
       "      <td>167.953</td>\n",
       "      <td>340920.0</td>\n",
       "      <td>https://www.youtube.com/watch?v=1V_xRb0x9aw</td>\n",
       "      <td>Gorillaz - Clint Eastwood (Official Video)</td>\n",
       "      <td>Gorillaz</td>\n",
       "      <td>618480958.0</td>\n",
       "      <td>6197318.0</td>\n",
       "      <td>155930.0</td>\n",
       "      <td>The official music video for Gorillaz - Clint ...</td>\n",
       "      <td>True</td>\n",
       "      <td>True</td>\n",
       "      <td>6.172597e+08</td>\n",
       "    </tr>\n",
       "  </tbody>\n",
       "</table>\n",
       "</div>"
      ],
      "text/plain": [
       "     Artist                                        Url_spotify  \\\n",
       "0  Gorillaz  https://open.spotify.com/artist/3AA28KZvwAUcZu...   \n",
       "1  Gorillaz  https://open.spotify.com/artist/3AA28KZvwAUcZu...   \n",
       "2  Gorillaz  https://open.spotify.com/artist/3AA28KZvwAUcZu...   \n",
       "3  Gorillaz  https://open.spotify.com/artist/3AA28KZvwAUcZu...   \n",
       "4  Gorillaz  https://open.spotify.com/artist/3AA28KZvwAUcZu...   \n",
       "\n",
       "                                           Track  \\\n",
       "0                                 Feel Good Inc.   \n",
       "1                                Rhinestone Eyes   \n",
       "2  New Gold (feat. Tame Impala and Bootie Brown)   \n",
       "3                             On Melancholy Hill   \n",
       "4                                 Clint Eastwood   \n",
       "\n",
       "                                           Album Album_type  \\\n",
       "0                                     Demon Days      album   \n",
       "1                                  Plastic Beach      album   \n",
       "2  New Gold (feat. Tame Impala and Bootie Brown)     single   \n",
       "3                                  Plastic Beach      album   \n",
       "4                                       Gorillaz      album   \n",
       "\n",
       "                                    Uri  Danceability  Energy   Key  Loudness  \\\n",
       "0  spotify:track:0d28khcov6AiegSCpG5TuT         0.818   0.705   6.0    -6.679   \n",
       "1  spotify:track:1foMv2HQwfQ2vntFf9HFeG         0.676   0.703   8.0    -5.815   \n",
       "2  spotify:track:64dLd6rVqDLtkXFYrEUHIU         0.695   0.923   1.0    -3.930   \n",
       "3  spotify:track:0q6LuUqGLUiCPP1cbdwFs3         0.689   0.739   2.0    -5.810   \n",
       "4  spotify:track:7yMiX7n9SBvadzox8T5jzT         0.663   0.694  10.0    -8.627   \n",
       "\n",
       "   Speechiness  Acousticness  Instrumentalness  Liveness  Valence    Tempo  \\\n",
       "0       0.1770      0.008360          0.002330    0.6130    0.772  138.559   \n",
       "1       0.0302      0.086900          0.000687    0.0463    0.852   92.761   \n",
       "2       0.0522      0.042500          0.046900    0.1160    0.551  108.014   \n",
       "3       0.0260      0.000015          0.509000    0.0640    0.578  120.423   \n",
       "4       0.1710      0.025300          0.000000    0.0698    0.525  167.953   \n",
       "\n",
       "   Duration_ms                                  Url_youtube  \\\n",
       "0     222640.0  https://www.youtube.com/watch?v=HyHNuVaZJ-k   \n",
       "1     200173.0  https://www.youtube.com/watch?v=yYDmaexVHic   \n",
       "2     215150.0  https://www.youtube.com/watch?v=qJa-VFwPpYA   \n",
       "3     233867.0  https://www.youtube.com/watch?v=04mfKJWDSzI   \n",
       "4     340920.0  https://www.youtube.com/watch?v=1V_xRb0x9aw   \n",
       "\n",
       "                                               Title   Channel        Views  \\\n",
       "0         Gorillaz - Feel Good Inc. (Official Video)  Gorillaz  693555221.0   \n",
       "1  Gorillaz - Rhinestone Eyes [Storyboard Film] (...  Gorillaz   72011645.0   \n",
       "2  Gorillaz - New Gold ft. Tame Impala & Bootie B...  Gorillaz    8435055.0   \n",
       "3     Gorillaz - On Melancholy Hill (Official Video)  Gorillaz  211754952.0   \n",
       "4         Gorillaz - Clint Eastwood (Official Video)  Gorillaz  618480958.0   \n",
       "\n",
       "       Likes  Comments                                        Description  \\\n",
       "0  6220896.0  169907.0  Official HD Video for Gorillaz' fantastic trac...   \n",
       "1  1079128.0   31003.0  The official video for Gorillaz - Rhinestone E...   \n",
       "2   282142.0    7399.0  Gorillaz - New Gold ft. Tame Impala & Bootie B...   \n",
       "3  1788577.0   55229.0  Follow Gorillaz online:\\nhttp://gorillaz.com \\...   \n",
       "4  6197318.0  155930.0  The official music video for Gorillaz - Clint ...   \n",
       "\n",
       "  Licensed official_video        Stream  \n",
       "0     True           True  1.040235e+09  \n",
       "1     True           True  3.100837e+08  \n",
       "2     True           True  6.306347e+07  \n",
       "3     True           True  4.346636e+08  \n",
       "4     True           True  6.172597e+08  "
      ]
     },
     "execution_count": 3,
     "metadata": {},
     "output_type": "execute_result"
    }
   ],
   "source": [
    "# store our dataset to variable named df\n",
    "\n",
    "df = pd.read_csv('Spotify_Youtube.csv',  index_col=0)\n",
    "df.head()"
   ]
  },
  {
   "attachments": {},
   "cell_type": "markdown",
   "metadata": {},
   "source": [
    "#   Question 01"
   ]
  },
  {
   "attachments": {},
   "cell_type": "markdown",
   "metadata": {},
   "source": [
    "# Question 02"
   ]
  },
  {
   "attachments": {},
   "cell_type": "markdown",
   "metadata": {},
   "source": [
    "# Question 03:\n",
    "How does the choice of model complexity, such as the **number of features**, **hidden layers**, and **neurons** in a neural network, influence the risk of **underfitting** in machine learning models, and how can model complexity be optimized to balance the trade-off between underfitting and overfitting?"
   ]
  },
  {
   "attachments": {},
   "cell_type": "markdown",
   "metadata": {},
   "source": [
    "## How will we proceed?"
   ]
  },
  {
   "attachments": {},
   "cell_type": "markdown",
   "metadata": {},
   "source": [
    "In this section, we will investigate how the choice of model complexity influences the risk of underfitting in machine learning models.\n",
    "Model complexity in a neural network refers to :\n",
    "- Number of features\n",
    "- Hidden layers\n",
    "- Neurons  \n",
    "These which are crucial design decisions when building models. Finding the right balance between model complexity and performance is essential for developing models that can generalize well to unseen data.\n",
    "\n",
    "To address this, we will conduct a series of experiments to understand the relationship between model complexity and the risk of underfitting and overfitting. Our goal is to optimize the model complexity and identify the optimal configuration that strikes a balance between the two."
   ]
  },
  {
   "attachments": {},
   "cell_type": "markdown",
   "metadata": {},
   "source": [
    "### Dataset Selection\n",
    "\n",
    "To address this inquiry and delve into it further, we will utilize an authentic dataset comprising songs from Spotify and YouTube."
   ]
  },
  {
   "attachments": {},
   "cell_type": "markdown",
   "metadata": {},
   "source": [
    "### Baseline Model\n",
    "Using the Keras library, we will create a simple neural network with one hidden layer for a binary classification problem:"
   ]
  },
  {
   "cell_type": "code",
   "execution_count": 6,
   "metadata": {},
   "outputs": [],
   "source": [
    "num_features = 26\n",
    "\n",
    "# Defining the model architecture\n",
    "model = Sequential()\n",
    "model.add(Dense(32, input_dim= num_features, activation='relu'))  # Hidden layer with 32 neurons\n",
    "model.add(Dense(1, activation='sigmoid'))  # Output layer for binary classification\n",
    "\n",
    "# Compile the model\n",
    "model.compile(loss='binary_crossentropy', optimizer='adam', metrics=['accuracy'])\n"
   ]
  },
  {
   "attachments": {},
   "cell_type": "markdown",
   "metadata": {},
   "source": [
    "### Experiment\n",
    "\n",
    "To experiment with model complexity, we will vary the number of features, hidden layers, and neurons in the neural network"
   ]
  },
  {
   "cell_type": "code",
   "execution_count": null,
   "metadata": {},
   "outputs": [],
   "source": []
  }
 ],
 "metadata": {
  "kernelspec": {
   "display_name": "Python 3",
   "language": "python",
   "name": "python3"
  },
  "language_info": {
   "codemirror_mode": {
    "name": "ipython",
    "version": 3
   },
   "file_extension": ".py",
   "mimetype": "text/x-python",
   "name": "python",
   "nbconvert_exporter": "python",
   "pygments_lexer": "ipython3",
   "version": "3.10.6"
  },
  "orig_nbformat": 4
 },
 "nbformat": 4,
 "nbformat_minor": 2
}
